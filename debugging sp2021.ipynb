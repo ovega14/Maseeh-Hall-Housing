{
 "cells": [
  {
   "cell_type": "code",
   "execution_count": 1,
   "metadata": {},
   "outputs": [],
   "source": [
    "import pandas as pd\n",
    "from pandas import ExcelWriter, ExcelFile\n",
    "import numpy as np\n",
    "import csv"
   ]
  },
  {
   "cell_type": "code",
   "execution_count": 2,
   "metadata": {},
   "outputs": [],
   "source": [
    "# initialize this to store the 'headers' and numerical point categories for housing point spreadsheet\n",
    "headers = []\n",
    "point_categories = []"
   ]
  },
  {
   "cell_type": "code",
   "execution_count": 3,
   "metadata": {},
   "outputs": [],
   "source": [
    "# get the substituent dataframes (make sure you use the appropriate filepath for your directory; here I use mine)\n",
    "df_govt = pd.read_excel('sp2021_govt_points.xlsx')\n",
    "df_fa2021 = pd.read_excel('fa2021_roster.xlsx')  # incoming residents, STILL BEING UPDATED by HRS\n",
    "df_sp2020 = pd.read_excel('previous_sp2020.xlsx')  # previous housing points, from Spring 2020\n",
    "df_sp2021 = pd.read_excel('sp2021_roster.xlsx')"
   ]
  },
  {
   "cell_type": "code",
   "execution_count": 4,
   "metadata": {},
   "outputs": [],
   "source": [
    "# to create a full input spreadsheet, we'll include a broad list of people and update everyone's points regardless\n",
    "semesters = [df_sp2020, df_sp2021, df_fa2021]\n",
    "\n",
    "kerbs_list = [df['Kerberos'] for df in semesters]\n",
    "kerbs_seq = [arr for arr in kerbs_list]\n",
    "new_kerbs_raw = np.unique(np.concatenate(kerbs_seq))\n",
    "new_kerbs = np.array([new_kerbs_raw]).T\n",
    "headers.append(new_kerbs)"
   ]
  },
  {
   "cell_type": "code",
   "execution_count": 5,
   "metadata": {},
   "outputs": [],
   "source": [
    "# COMPILING PREVIOUS POINTS\n",
    "prev_kerbs = df_sp2020['Kerberos']\n",
    "prev_totals = df_sp2020['Total']\n",
    "prev_points = {prev_kerbs[i]: prev_totals[i] for i in range(len(prev_totals))}"
   ]
  },
  {
   "cell_type": "code",
   "execution_count": 6,
   "metadata": {},
   "outputs": [],
   "source": [
    "for item in new_kerbs_raw:\n",
    "    if item not in prev_points.keys():\n",
    "        prev_points[item] = 0\n",
    "    elif item in prev_points.keys():\n",
    "        pass"
   ]
  },
  {
   "cell_type": "code",
   "execution_count": 7,
   "metadata": {},
   "outputs": [],
   "source": [
    "fa2021_prev_points_raw = np.array([prev_points[j] for j in new_kerbs_raw])\n",
    "fa2021_all_kerbs_raw = np.array([k for k in prev_points.keys()])\n",
    "fa2021_prev_points = np.array([fa2021_prev_points_raw]).T\n",
    "point_categories.append(fa2021_prev_points)"
   ]
  },
  {
   "cell_type": "code",
   "execution_count": 8,
   "metadata": {},
   "outputs": [],
   "source": [
    "# COMPILING SENIOR POINTS\n",
    "gradyear_sp2021 = {'Freshman': '2024', 'Sophomore': '2023', 'Junior': '2022', 'Senior': '2021'}\n",
    "gradyear_fa2021 = {'Freshman': '2025', 'Sophomore': '2024', 'Junior': '2023', 'Senior': '2022'}"
   ]
  },
  {
   "cell_type": "code",
   "execution_count": 9,
   "metadata": {},
   "outputs": [],
   "source": [
    "def grad_year(arr, term):\n",
    "    # assigns numerical graduation year to class name (e.g. 'Senior' --> 2022, 'Junior' --> 2023, etc.); depends on\n",
    "    # reference year ['term']\n",
    "    if term == 'fa2021':\n",
    "        num_yr = [gradyear_fa2021[i] for i in arr]\n",
    "    elif term == 'sp2021':\n",
    "        num_yr = [gradyear_sp2021[i] for i in arr]\n",
    "    return np.array(num_yr)"
   ]
  },
  {
   "cell_type": "code",
   "execution_count": 10,
   "metadata": {},
   "outputs": [],
   "source": [
    "raw_year_fa2021 = df_fa2021['Year (RAW)']\n",
    "year_fa2021 = grad_year(raw_year_fa2021, 'fa2021')\n",
    "classes_fa2021 = {df_fa2021['Kerberos'][i]: year_fa2021[i] for i in range(len(year_fa2021))}"
   ]
  },
  {
   "cell_type": "code",
   "execution_count": 11,
   "metadata": {},
   "outputs": [],
   "source": [
    "raw_year_sp2021 = df_sp2021['Year (RAW)']\n",
    "year_sp2021 = grad_year(raw_year_sp2021, 'sp2021')\n",
    "classes_sp2021 = {df_sp2021['Kerberos'][i]: year_sp2021[i] for i in range(len(year_sp2021))}"
   ]
  },
  {
   "cell_type": "code",
   "execution_count": 12,
   "metadata": {},
   "outputs": [],
   "source": [
    "year_sp2020 = df_sp2020['Year']\n",
    "classes_sp2020 = {df_sp2020['Kerberos'][i]: year_sp2020[i] for i in range(len(prev_totals))}"
   ]
  },
  {
   "cell_type": "code",
   "execution_count": 13,
   "metadata": {},
   "outputs": [],
   "source": [
    "fa2021_all_classes = {}\n",
    "years_dict = [classes_sp2020, classes_sp2021, classes_fa2021]\n",
    "for x in years_dict:\n",
    "    fa2021_all_classes.update(x)\n",
    "fa2021_years_raw = np.array([fa2021_all_classes[i] for i in new_kerbs_raw])\n",
    "fa2021_years = np.array([fa2021_years_raw]).T\n",
    "headers.append(fa2021_years)"
   ]
  },
  {
   "cell_type": "code",
   "execution_count": 14,
   "metadata": {},
   "outputs": [],
   "source": [
    "sen_year = np.full((fa2021_years.shape[0], 1), '2022')  # <--change this to grad year of upcoming seniors; senior identifier"
   ]
  },
  {
   "cell_type": "code",
   "execution_count": 15,
   "metadata": {},
   "outputs": [],
   "source": [
    "def is_senior(year):\n",
    "    return year == sen_year"
   ]
  },
  {
   "cell_type": "code",
   "execution_count": 16,
   "metadata": {},
   "outputs": [],
   "source": [
    "fa2021_sen_pts = 40 * is_senior(fa2021_years)\n",
    "point_categories.append(fa2021_sen_pts)"
   ]
  },
  {
   "cell_type": "code",
   "execution_count": 17,
   "metadata": {},
   "outputs": [],
   "source": [
    "# COMPILING COMMITTEE POINTS\n",
    "'''\n",
    "(Optionally) Need to add something to check that if a name appears twice (i.e. someone volunteered for multiple things),\n",
    "must add the points and put them under one name. otherwise check for redundancies by hand\n",
    "'''\n",
    "df_comm = pd.read_excel('sp2021_committee_points.xlsx')\n",
    "\n",
    "comm_kerbs = df_comm['Kerberos']\n",
    "comm_pts = df_comm['Committee Points']\n",
    "sp2021_comm_pts = {comm_kerbs[i]: comm_pts[i] for i in range(len(comm_kerbs))}\n",
    "\n",
    "for kerb in new_kerbs_raw:\n",
    "    if kerb not in sp2021_comm_pts.keys():\n",
    "        sp2021_comm_pts[kerb] = 0\n",
    "    elif kerb in sp2021_comm_pts.keys():\n",
    "        pass\n",
    "\n",
    "fa2021_comm_pts_raw = np.array([sp2021_comm_pts[i] for i in new_kerbs_raw])\n",
    "fa2021_comm_pts = np.array([fa2021_comm_pts_raw]).T\n",
    "point_categories.append(fa2021_comm_pts)\n"
   ]
  },
  {
   "cell_type": "code",
   "execution_count": 18,
   "metadata": {},
   "outputs": [],
   "source": [
    "# COMPILING RESIDENT POINTS\n",
    "'''\n",
    "Basically need to check that the Spring 2021 roster lines up with the entire housing points roster.\n",
    "The residents in the intersection of both matrices are the ones who receive 20 resident points for living in Maseeh.\n",
    "'''\n",
    "res_kerbs = df_sp2021['Kerberos']\n",
    "sp2021_res_pts = {res_kerbs[i]: 0 for i in range(len(res_kerbs))}\n",
    "\n",
    "for kerb in new_kerbs_raw:\n",
    "    if kerb not in sp2021_res_pts.keys():\n",
    "        sp2021_res_pts[kerb] = 0\n",
    "        #pass\n",
    "    elif kerb in sp2021_res_pts.keys():\n",
    "        sp2021_res_pts[kerb] = 20"
   ]
  },
  {
   "cell_type": "code",
   "execution_count": 19,
   "metadata": {},
   "outputs": [],
   "source": [
    "fa2021_res_pts_raw = np.array([sp2021_res_pts[i] for i in new_kerbs_raw])\n",
    "fa2021_res_pts = np.array([fa2021_res_pts_raw]).T\n",
    "point_categories.append(fa2021_res_pts)"
   ]
  },
  {
   "cell_type": "code",
   "execution_count": 20,
   "metadata": {},
   "outputs": [],
   "source": [
    "# COMPILING GOVERNMENT POINTS\n",
    "govt_pts = df_govt['Government Points']\n",
    "govt_kerbs = df_govt['Kerberos']\n",
    "sp2021_govt_pts = {govt_kerbs[i]: govt_pts[i] for i in range(len(govt_kerbs))}\n",
    "\n",
    "for kerb in new_kerbs_raw:\n",
    "    if kerb not in sp2021_govt_pts.keys():\n",
    "        sp2021_govt_pts[kerb] = 0\n",
    "    elif kerb in sp2021_govt_pts.keys():\n",
    "        pass\n",
    "\n",
    "fa2021_govt_pts_raw = np.array([sp2021_govt_pts[i] for i in new_kerbs_raw])\n",
    "fa2021_govt_pts = np.array([fa2021_govt_pts_raw]).T\n",
    "point_categories.append(fa2021_govt_pts)"
   ]
  },
  {
   "cell_type": "markdown",
   "metadata": {},
   "source": [
    "Write to a CVS File:"
   ]
  },
  {
   "cell_type": "code",
   "execution_count": 21,
   "metadata": {},
   "outputs": [],
   "source": [
    "for cat in point_categories:\n",
    "    headers.append(cat)"
   ]
  },
  {
   "cell_type": "code",
   "execution_count": 22,
   "metadata": {},
   "outputs": [
    {
     "data": {
      "text/plain": [
       "7"
      ]
     },
     "execution_count": 22,
     "metadata": {},
     "output_type": "execute_result"
    }
   ],
   "source": [
    "len(headers)"
   ]
  },
  {
   "cell_type": "code",
   "execution_count": 23,
   "metadata": {},
   "outputs": [
    {
     "name": "stdout",
     "output_type": "stream",
     "text": [
      "(1132, 1)\n",
      "(1132, 1)\n",
      "(1132, 1)\n",
      "(1132, 1)\n",
      "(1132, 1)\n",
      "(1132, 1)\n",
      "(1132, 1)\n"
     ]
    }
   ],
   "source": [
    "for item in headers:\n",
    "    print (item.shape)"
   ]
  },
  {
   "cell_type": "code",
   "execution_count": 24,
   "metadata": {},
   "outputs": [],
   "source": [
    "out_cols = np.stack(headers)\n",
    "labels = ['Kerberos', 'Year', 'Previous Points', 'Senior Points', 'Committee Points',\n",
    "                                    'Residency Points', 'Government Points']\n",
    "head_cols = np.array([[col] for col in labels])"
   ]
  },
  {
   "cell_type": "code",
   "execution_count": 25,
   "metadata": {},
   "outputs": [],
   "source": [
    "refined_cols=out_cols.reshape(7,1132,)"
   ]
  },
  {
   "cell_type": "code",
   "execution_count": 26,
   "metadata": {},
   "outputs": [
    {
     "data": {
      "text/plain": [
       "array([['Kerberos'],\n",
       "       ['Year'],\n",
       "       ['Previous Points'],\n",
       "       ['Senior Points'],\n",
       "       ['Committee Points'],\n",
       "       ['Residency Points'],\n",
       "       ['Government Points']], dtype='<U17')"
      ]
     },
     "execution_count": 26,
     "metadata": {},
     "output_type": "execute_result"
    }
   ],
   "source": [
    "head_cols"
   ]
  },
  {
   "cell_type": "code",
   "execution_count": 27,
   "metadata": {},
   "outputs": [],
   "source": [
    "df = pd.DataFrame(data=refined_cols.T, index=None, columns=head_cols)\n"
   ]
  },
  {
   "cell_type": "code",
   "execution_count": 28,
   "metadata": {},
   "outputs": [
    {
     "data": {
      "text/html": [
       "<div>\n",
       "<style scoped>\n",
       "    .dataframe tbody tr th:only-of-type {\n",
       "        vertical-align: middle;\n",
       "    }\n",
       "\n",
       "    .dataframe tbody tr th {\n",
       "        vertical-align: top;\n",
       "    }\n",
       "\n",
       "    .dataframe thead th {\n",
       "        text-align: right;\n",
       "    }\n",
       "</style>\n",
       "<table border=\"1\" class=\"dataframe\">\n",
       "  <thead>\n",
       "    <tr style=\"text-align: right;\">\n",
       "      <th></th>\n",
       "      <th>(Kerberos,)</th>\n",
       "      <th>(Year,)</th>\n",
       "      <th>(Previous Points,)</th>\n",
       "      <th>(Senior Points,)</th>\n",
       "      <th>(Committee Points,)</th>\n",
       "      <th>(Residency Points,)</th>\n",
       "      <th>(Government Points,)</th>\n",
       "    </tr>\n",
       "  </thead>\n",
       "  <tbody>\n",
       "    <tr>\n",
       "      <th>0</th>\n",
       "      <td>aaditya</td>\n",
       "      <td>2021</td>\n",
       "      <td>161</td>\n",
       "      <td>0</td>\n",
       "      <td>0</td>\n",
       "      <td>0</td>\n",
       "      <td>0</td>\n",
       "    </tr>\n",
       "    <tr>\n",
       "      <th>1</th>\n",
       "      <td>aafrey</td>\n",
       "      <td>2020</td>\n",
       "      <td>100</td>\n",
       "      <td>0</td>\n",
       "      <td>0</td>\n",
       "      <td>0</td>\n",
       "      <td>0</td>\n",
       "    </tr>\n",
       "    <tr>\n",
       "      <th>2</th>\n",
       "      <td>aarongs</td>\n",
       "      <td>2021</td>\n",
       "      <td>160</td>\n",
       "      <td>0</td>\n",
       "      <td>0</td>\n",
       "      <td>0</td>\n",
       "      <td>0</td>\n",
       "    </tr>\n",
       "    <tr>\n",
       "      <th>3</th>\n",
       "      <td>abdalla</td>\n",
       "      <td>2021</td>\n",
       "      <td>173</td>\n",
       "      <td>0</td>\n",
       "      <td>0</td>\n",
       "      <td>0</td>\n",
       "      <td>0</td>\n",
       "    </tr>\n",
       "    <tr>\n",
       "      <th>4</th>\n",
       "      <td>abdulmlk</td>\n",
       "      <td>2021</td>\n",
       "      <td>160</td>\n",
       "      <td>0</td>\n",
       "      <td>0</td>\n",
       "      <td>0</td>\n",
       "      <td>0</td>\n",
       "    </tr>\n",
       "    <tr>\n",
       "      <th>...</th>\n",
       "      <td>...</td>\n",
       "      <td>...</td>\n",
       "      <td>...</td>\n",
       "      <td>...</td>\n",
       "      <td>...</td>\n",
       "      <td>...</td>\n",
       "      <td>...</td>\n",
       "    </tr>\n",
       "    <tr>\n",
       "      <th>1127</th>\n",
       "      <td>ziheng</td>\n",
       "      <td>2020</td>\n",
       "      <td>100</td>\n",
       "      <td>0</td>\n",
       "      <td>0</td>\n",
       "      <td>0</td>\n",
       "      <td>0</td>\n",
       "    </tr>\n",
       "    <tr>\n",
       "      <th>1128</th>\n",
       "      <td>zjohnson</td>\n",
       "      <td>2022</td>\n",
       "      <td>60</td>\n",
       "      <td>40</td>\n",
       "      <td>0</td>\n",
       "      <td>0</td>\n",
       "      <td>0</td>\n",
       "    </tr>\n",
       "    <tr>\n",
       "      <th>1129</th>\n",
       "      <td>zkuhlken</td>\n",
       "      <td>2024</td>\n",
       "      <td>0</td>\n",
       "      <td>0</td>\n",
       "      <td>0</td>\n",
       "      <td>20</td>\n",
       "      <td>0</td>\n",
       "    </tr>\n",
       "    <tr>\n",
       "      <th>1130</th>\n",
       "      <td>zroberts</td>\n",
       "      <td>2021</td>\n",
       "      <td>100</td>\n",
       "      <td>0</td>\n",
       "      <td>0</td>\n",
       "      <td>0</td>\n",
       "      <td>0</td>\n",
       "    </tr>\n",
       "    <tr>\n",
       "      <th>1131</th>\n",
       "      <td>zswole</td>\n",
       "      <td>2021</td>\n",
       "      <td>164</td>\n",
       "      <td>0</td>\n",
       "      <td>0</td>\n",
       "      <td>0</td>\n",
       "      <td>0</td>\n",
       "    </tr>\n",
       "  </tbody>\n",
       "</table>\n",
       "<p>1132 rows × 7 columns</p>\n",
       "</div>"
      ],
      "text/plain": [
       "     (Kerberos,) (Year,) (Previous Points,) (Senior Points,)  \\\n",
       "0        aaditya    2021                161                0   \n",
       "1         aafrey    2020                100                0   \n",
       "2        aarongs    2021                160                0   \n",
       "3        abdalla    2021                173                0   \n",
       "4       abdulmlk    2021                160                0   \n",
       "...          ...     ...                ...              ...   \n",
       "1127      ziheng    2020                100                0   \n",
       "1128    zjohnson    2022                 60               40   \n",
       "1129    zkuhlken    2024                  0                0   \n",
       "1130    zroberts    2021                100                0   \n",
       "1131      zswole    2021                164                0   \n",
       "\n",
       "     (Committee Points,) (Residency Points,) (Government Points,)  \n",
       "0                      0                   0                    0  \n",
       "1                      0                   0                    0  \n",
       "2                      0                   0                    0  \n",
       "3                      0                   0                    0  \n",
       "4                      0                   0                    0  \n",
       "...                  ...                 ...                  ...  \n",
       "1127                   0                   0                    0  \n",
       "1128                   0                   0                    0  \n",
       "1129                   0                  20                    0  \n",
       "1130                   0                   0                    0  \n",
       "1131                   0                   0                    0  \n",
       "\n",
       "[1132 rows x 7 columns]"
      ]
     },
     "execution_count": 28,
     "metadata": {},
     "output_type": "execute_result"
    }
   ],
   "source": [
    "df"
   ]
  },
  {
   "cell_type": "code",
   "execution_count": 29,
   "metadata": {},
   "outputs": [],
   "source": [
    "df.to_csv('C:/Users/vega0/Documents/Academics/Extracurriculars/MHEC/Rooming and Housing Points/Spring 2021 Housing Points/new3.csv', index=False, header=True)"
   ]
  },
  {
   "cell_type": "markdown",
   "metadata": {},
   "source": [
    "MAKE REQUEST TO ADMIN TO NOT LIST 5th years as seniors!!! Ask them to give us an updated list"
   ]
  },
  {
   "cell_type": "markdown",
   "metadata": {},
   "source": [
    "ADD LEX's LAw Section"
   ]
  },
  {
   "cell_type": "markdown",
   "metadata": {},
   "source": [
    "maybe delete all the 2020 rows?"
   ]
  },
  {
   "cell_type": "code",
   "execution_count": null,
   "metadata": {},
   "outputs": [],
   "source": []
  }
 ],
 "metadata": {
  "kernelspec": {
   "display_name": "Python 3",
   "language": "python",
   "name": "python3"
  },
  "language_info": {
   "codemirror_mode": {
    "name": "ipython",
    "version": 3
   },
   "file_extension": ".py",
   "mimetype": "text/x-python",
   "name": "python",
   "nbconvert_exporter": "python",
   "pygments_lexer": "ipython3",
   "version": "3.7.6"
  }
 },
 "nbformat": 4,
 "nbformat_minor": 4
}
